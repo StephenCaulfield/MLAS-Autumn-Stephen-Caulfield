{
 "cells": [
  {
   "cell_type": "markdown",
   "id": "61fcbf5a",
   "metadata": {},
   "source": [
    "<h1><b>MACHINE LEARNING AND STATISTICS: REGRESSION</b></h1>"
   ]
  },
  {
   "cell_type": "markdown",
   "id": "d6e7bcca",
   "metadata": {},
   "source": [
    "<h2>GOALS OF THIS PROJECT</h2>\n",
    "    <ol>\n",
    "    <li>Show how scipy can be used to perform linear regression.</li>\n",
    "    <li>Find an appropriate data set online or elsewhere on which to\n",
    "perform linear regression.\n",
    "</li>\n",
    "    <li>Demonstrate how to perform linear regression on the data set.\n",
    "</li>\n",
    "</ol>"
   ]
  },
  {
   "cell_type": "markdown",
   "id": "1e8c9757",
   "metadata": {},
   "source": [
    "<h2 align = \"center\">1. PERFORMING LINEAR REGRESSION WITH SCIPY</h2>"
   ]
  },
  {
   "cell_type": "markdown",
   "id": "8998ec2a",
   "metadata": {},
   "source": [
    "<h3>WHAT IS LINEAR REGRESSION</h3>\n",
    "<p>Linear regression is a commonly used type of predicitive analysis. It attempts to examine two things.\n",
    "    <ol>\n",
    "        <li>Whether a set of predictor variables can predict the outcome/dependent variable. For example predicting the weight of a mouse based on its size.</li>\n",
    "        <li>Which variables in particular are significant predictors of the outcome variable. For example, a mouse's tail length may not be significant in predicting is size or weight.</li>"
   ]
  },
  {
   "cell_type": "code",
   "execution_count": 2,
   "id": "5b0c7a9e",
   "metadata": {},
   "outputs": [],
   "source": [
    "import numpy as np\n",
    "\n",
    "import matplotlib.pyplot as plt\n",
    "\n",
    "import scipy.stats as ss\n",
    "\n",
    "import pandas as pd\n",
    "\n",
    "rng = np.random.default_rng()"
   ]
  },
  {
   "cell_type": "code",
   "execution_count": 3,
   "id": "b94b3168",
   "metadata": {},
   "outputs": [],
   "source": [
    "x = rng.random(10)\n",
    "\n",
    "y = 1.6*x + rng.random(10)"
   ]
  },
  {
   "cell_type": "code",
   "execution_count": 4,
   "id": "9f6ca487",
   "metadata": {},
   "outputs": [],
   "source": [
    "res = ss.linregress(x, y)"
   ]
  },
  {
   "cell_type": "code",
   "execution_count": 5,
   "id": "ef55e67d",
   "metadata": {},
   "outputs": [
    {
     "data": {
      "image/png": "[encoded data removed]",
      "text/plain": [
       "<Figure size 640x480 with 1 Axes>"
      ]
     },
     "metadata": {},
     "output_type": "display_data"
    }
   ],
   "source": [
    "plt.plot(x, y, 'o', label='original data')\n",
    "\n",
    "plt.plot(x, res.intercept + res.slope*x, 'r', label='fitted line')\n",
    "\n",
    "plt.legend()\n",
    "\n",
    "plt.show()"
   ]
  },
  {
   "cell_type": "markdown",
   "id": "b91ef94c",
   "metadata": {},
   "source": [
    "<h2 align = \"center\">2. EXPLAINING THE DATA SET USED</h2>"
   ]
  },
  {
   "cell_type": "code",
   "execution_count": 33,
   "id": "3fc30fb0",
   "metadata": {
    "scrolled": true
   },
   "outputs": [
    {
     "data": {
      "text/html": [
       "<div>\n",
       "<style scoped>\n",
       "    .dataframe tbody tr th:only-of-type {\n",
       "        vertical-align: middle;\n",
       "    }\n",
       "\n",
       "    .dataframe tbody tr th {\n",
       "        vertical-align: top;\n",
       "    }\n",
       "\n",
       "    .dataframe thead th {\n",
       "        text-align: right;\n",
       "    }\n",
       "</style>\n",
       "<table border=\"1\" class=\"dataframe\">\n",
       "  <thead>\n",
       "    <tr style=\"text-align: right;\">\n",
       "      <th></th>\n",
       "      <th>Species</th>\n",
       "      <th>Weight</th>\n",
       "      <th>Length_Vert</th>\n",
       "      <th>Length_Diag</th>\n",
       "      <th>Length_Cross</th>\n",
       "      <th>Height</th>\n",
       "      <th>Width</th>\n",
       "    </tr>\n",
       "  </thead>\n",
       "  <tbody>\n",
       "    <tr>\n",
       "      <th>0</th>\n",
       "      <td>Bream</td>\n",
       "      <td>242.0</td>\n",
       "      <td>23.2</td>\n",
       "      <td>25.4</td>\n",
       "      <td>30.0</td>\n",
       "      <td>11.5200</td>\n",
       "      <td>4.0200</td>\n",
       "    </tr>\n",
       "    <tr>\n",
       "      <th>1</th>\n",
       "      <td>Bream</td>\n",
       "      <td>290.0</td>\n",
       "      <td>24.0</td>\n",
       "      <td>26.3</td>\n",
       "      <td>31.2</td>\n",
       "      <td>12.4800</td>\n",
       "      <td>4.3056</td>\n",
       "    </tr>\n",
       "    <tr>\n",
       "      <th>2</th>\n",
       "      <td>Bream</td>\n",
       "      <td>340.0</td>\n",
       "      <td>23.9</td>\n",
       "      <td>26.5</td>\n",
       "      <td>31.1</td>\n",
       "      <td>12.3778</td>\n",
       "      <td>4.6961</td>\n",
       "    </tr>\n",
       "    <tr>\n",
       "      <th>3</th>\n",
       "      <td>Bream</td>\n",
       "      <td>363.0</td>\n",
       "      <td>26.3</td>\n",
       "      <td>29.0</td>\n",
       "      <td>33.5</td>\n",
       "      <td>12.7300</td>\n",
       "      <td>4.4555</td>\n",
       "    </tr>\n",
       "    <tr>\n",
       "      <th>4</th>\n",
       "      <td>Bream</td>\n",
       "      <td>430.0</td>\n",
       "      <td>26.5</td>\n",
       "      <td>29.0</td>\n",
       "      <td>34.0</td>\n",
       "      <td>12.4440</td>\n",
       "      <td>5.1340</td>\n",
       "    </tr>\n",
       "    <tr>\n",
       "      <th>...</th>\n",
       "      <td>...</td>\n",
       "      <td>...</td>\n",
       "      <td>...</td>\n",
       "      <td>...</td>\n",
       "      <td>...</td>\n",
       "      <td>...</td>\n",
       "      <td>...</td>\n",
       "    </tr>\n",
       "    <tr>\n",
       "      <th>154</th>\n",
       "      <td>Smelt</td>\n",
       "      <td>12.2</td>\n",
       "      <td>11.5</td>\n",
       "      <td>12.2</td>\n",
       "      <td>13.4</td>\n",
       "      <td>2.0904</td>\n",
       "      <td>1.3936</td>\n",
       "    </tr>\n",
       "    <tr>\n",
       "      <th>155</th>\n",
       "      <td>Smelt</td>\n",
       "      <td>13.4</td>\n",
       "      <td>11.7</td>\n",
       "      <td>12.4</td>\n",
       "      <td>13.5</td>\n",
       "      <td>2.4300</td>\n",
       "      <td>1.2690</td>\n",
       "    </tr>\n",
       "    <tr>\n",
       "      <th>156</th>\n",
       "      <td>Smelt</td>\n",
       "      <td>12.2</td>\n",
       "      <td>12.1</td>\n",
       "      <td>13.0</td>\n",
       "      <td>13.8</td>\n",
       "      <td>2.2770</td>\n",
       "      <td>1.2558</td>\n",
       "    </tr>\n",
       "    <tr>\n",
       "      <th>157</th>\n",
       "      <td>Smelt</td>\n",
       "      <td>19.7</td>\n",
       "      <td>13.2</td>\n",
       "      <td>14.3</td>\n",
       "      <td>15.2</td>\n",
       "      <td>2.8728</td>\n",
       "      <td>2.0672</td>\n",
       "    </tr>\n",
       "    <tr>\n",
       "      <th>158</th>\n",
       "      <td>Smelt</td>\n",
       "      <td>19.9</td>\n",
       "      <td>13.8</td>\n",
       "      <td>15.0</td>\n",
       "      <td>16.2</td>\n",
       "      <td>2.9322</td>\n",
       "      <td>1.8792</td>\n",
       "    </tr>\n",
       "  </tbody>\n",
       "</table>\n",
       "<p>159 rows × 7 columns</p>\n",
       "</div>"
      ],
      "text/plain": [
       "    Species  Weight  Length_Vert  Length_Diag  Length_Cross   Height   Width\n",
       "0     Bream   242.0         23.2         25.4          30.0  11.5200  4.0200\n",
       "1     Bream   290.0         24.0         26.3          31.2  12.4800  4.3056\n",
       "2     Bream   340.0         23.9         26.5          31.1  12.3778  4.6961\n",
       "3     Bream   363.0         26.3         29.0          33.5  12.7300  4.4555\n",
       "4     Bream   430.0         26.5         29.0          34.0  12.4440  5.1340\n",
       "..      ...     ...          ...          ...           ...      ...     ...\n",
       "154   Smelt    12.2         11.5         12.2          13.4   2.0904  1.3936\n",
       "155   Smelt    13.4         11.7         12.4          13.5   2.4300  1.2690\n",
       "156   Smelt    12.2         12.1         13.0          13.8   2.2770  1.2558\n",
       "157   Smelt    19.7         13.2         14.3          15.2   2.8728  2.0672\n",
       "158   Smelt    19.9         13.8         15.0          16.2   2.9322  1.8792\n",
       "\n",
       "[159 rows x 7 columns]"
      ]
     },
     "execution_count": 33,
     "metadata": {},
     "output_type": "execute_result"
    }
   ],
   "source": [
    "df = pd.read_csv('Fish.csv')\n",
    "\n",
    "df"
   ]
  },
  {
   "cell_type": "code",
   "execution_count": 34,
   "id": "c84a3b9b",
   "metadata": {},
   "outputs": [],
   "source": [
    "def dfregression(x,y):\n",
    "    res = ss.linregress(x, y)\n",
    "\n",
    "    plt.plot(x, y, 'o', label='original data')\n",
    "\n",
    "    plt.plot(x, res.intercept + res.slope*x, 'r', label='fitted line')\n",
    "\n",
    "    plt.legend()\n",
    "\n",
    "    plt.show()"
   ]
  },
  {
   "cell_type": "code",
   "execution_count": 35,
   "id": "29a1a795",
   "metadata": {},
   "outputs": [
    {
     "data": {
      "image/png": "[encoded data removed]",
      "text/plain": [
       "<Figure size 640x480 with 1 Axes>"
      ]
     },
     "metadata": {},
     "output_type": "display_data"
    }
   ],
   "source": [
    "dfregression(df['Weight'], df['Width'])"
   ]
  },
  {
   "cell_type": "code",
   "execution_count": 36,
   "id": "31d95da3",
   "metadata": {},
   "outputs": [],
   "source": [
    "grouped = df.groupby(df.Species, as_index=False)\n",
    "dfBream = grouped.get_group('Bream').reset_index()\n",
    "dfRoach = grouped.get_group('Roach').reset_index()\n",
    "dfWhitefish = grouped.get_group('Whitefish').reset_index()\n",
    "dfParkki = grouped.get_group('Parkki').reset_index()\n",
    "dfPerch = grouped.get_group('Perch').reset_index()\n",
    "dfPike = grouped.get_group('Pike').reset_index()\n",
    "dfSmelt = grouped.get_group('Smelt').reset_index()"
   ]
  },
  {
   "cell_type": "code",
   "execution_count": 86,
   "id": "4d59ed22",
   "metadata": {},
   "outputs": [],
   "source": [
    "def gradient_descent(m_now, b_now, points, L):\n",
    "    m_gradient = 0\n",
    "    b_gradient = 0\n",
    "    \n",
    "    n = len(points)\n",
    "    \n",
    "    for i in range(n):\n",
    "        x = points.iloc[i].Weight\n",
    "        y = points.iloc[i].Height\n",
    "        \n",
    "        m_gradient += -(2/n) * x * (y - (m_now * x + b_now))\n",
    "        b_gradient += -(2/n) * (y - (m_now * x + b_now))\n",
    "    m = m_now - m_gradient * L\n",
    "    b = b_now - b_gradient * L\n",
    "    return m,b\n"
   ]
  },
  {
   "cell_type": "code",
   "execution_count": 110,
   "id": "77542e41",
   "metadata": {},
   "outputs": [
    {
     "name": "stdout",
     "output_type": "stream",
     "text": [
      "0.01634874215968453 0.004932816848322455\n"
     ]
    }
   ],
   "source": [
    "m = 0\n",
    "b = 0\n",
    "L = 0.000001\n",
    "epochs = 1000\n",
    "\n",
    "for i in range(epochs):\n",
    "    m,b = gradient_descent(m, b, df, L)\n",
    "\n",
    "print(m,b)"
   ]
  },
  {
   "cell_type": "code",
   "execution_count": 111,
   "id": "cf037893",
   "metadata": {},
   "outputs": [
    {
     "data": {
      "text/plain": [
       "[<matplotlib.lines.Line2D at 0x23705609a60>]"
      ]
     },
     "execution_count": 111,
     "metadata": {},
     "output_type": "execute_result"
    },
    {
     "data": {
      "image/png": "[encoded data removed]",
      "text/plain": [
       "<Figure size 640x480 with 1 Axes>"
      ]
     },
     "metadata": {},
     "output_type": "display_data"
    }
   ],
   "source": [
    "plt.scatter(df.Weight, df.Height)\n",
    "plt.plot(list(range(18,1600)), [m* x + b for x in range(18,1600)],color = \"red\")"
   ]
  },
  {
   "cell_type": "code",
   "execution_count": null,
   "id": "e54739fc",
   "metadata": {},
   "outputs": [],
   "source": []
  },
  {
   "cell_type": "code",
   "execution_count": null,
   "id": "35efcbbb",
   "metadata": {},
   "outputs": [],
   "source": []
  },
  {
   "cell_type": "code",
   "execution_count": null,
   "id": "43d2cf0d",
   "metadata": {},
   "outputs": [],
   "source": []
  },
  {
   "cell_type": "code",
   "execution_count": null,
   "id": "85e3ee4c",
   "metadata": {},
   "outputs": [],
   "source": []
  },
  {
   "cell_type": "markdown",
   "id": "0ee95d8a",
   "metadata": {},
   "source": [
    "<h2 align = \"center\">3. PERFORMING LINEAR REGRESSION THE DATA SET</h2>"
   ]
  }
 ],
 "metadata": {
  "kernelspec": {
   "display_name": "Python 3 (ipykernel)",
   "language": "python",
   "name": "python3"
  },
  "language_info": {
   "codemirror_mode": {
    "name": "ipython",
    "version": 3
   },
   "file_extension": ".py",
   "mimetype": "text/x-python",
   "name": "python",
   "nbconvert_exporter": "python",
   "pygments_lexer": "ipython3",
   "version": "3.8.0"
  }
 },
 "nbformat": 4,
 "nbformat_minor": 5
}
