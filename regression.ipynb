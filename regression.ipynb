{
 "cells": [
  {
   "cell_type": "markdown",
   "id": "61fcbf5a",
   "metadata": {},
   "source": [
    "<h1><b>MACHINE LEARNING AND STATISTICS: REGRESSION</b></h1>"
   ]
  },
  {
   "cell_type": "markdown",
   "id": "d6e7bcca",
   "metadata": {},
   "source": [
    "<h2>GOALS OF THIS PROJECT</h2>\n",
    "    <ol>\n",
    "    <li>Show how scipy can be used to perform linear regression.</li>\n",
    "    <li>Find an appropriate data set online or elsewhere on which to\n",
    "perform linear regression.\n",
    "</li>\n",
    "    <li>Demonstrate how to perform linear regression on the data set.\n",
    "</li>\n",
    "</ol>"
   ]
  },
  {
   "cell_type": "markdown",
   "id": "1e8c9757",
   "metadata": {},
   "source": [
    "<h2 align = \"center\">1. PERFORMING LINEAR REGRESSION WITH SCIPY</h2>"
   ]
  },
  {
   "cell_type": "markdown",
   "id": "75edbae7",
   "metadata": {},
   "source": []
  },
  {
   "cell_type": "markdown",
   "id": "d50d78ec",
   "metadata": {},
   "source": []
  },
  {
   "cell_type": "markdown",
   "id": "241b6441",
   "metadata": {},
   "source": []
  },
  {
   "cell_type": "markdown",
   "id": "db76fcbd",
   "metadata": {},
   "source": []
  },
  {
   "cell_type": "markdown",
   "id": "b91ef94c",
   "metadata": {},
   "source": [
    "<h2 align = \"center\">2. EXPLAINING THE DATA SET USED</h2>"
   ]
  },
  {
   "cell_type": "markdown",
   "id": "6f78a554",
   "metadata": {},
   "source": []
  },
  {
   "cell_type": "markdown",
   "id": "5fe419d6",
   "metadata": {},
   "source": []
  },
  {
   "cell_type": "markdown",
   "id": "fc0b2e1f",
   "metadata": {},
   "source": []
  },
  {
   "cell_type": "markdown",
   "id": "8cff0d02",
   "metadata": {},
   "source": []
  },
  {
   "cell_type": "markdown",
   "id": "0ee95d8a",
   "metadata": {},
   "source": [
    "<h2 align = \"center\">3. PERFORMING LINEAR REGRESSION THE DATA SET</h2>"
   ]
  },
  {
   "cell_type": "markdown",
   "id": "f3752334",
   "metadata": {},
   "source": []
  },
  {
   "cell_type": "markdown",
   "id": "1575424c",
   "metadata": {},
   "source": []
  },
  {
   "cell_type": "markdown",
   "id": "d305282e",
   "metadata": {},
   "source": []
  },
  {
   "cell_type": "markdown",
   "id": "02e8a2b0",
   "metadata": {},
   "source": []
  }
 ],
 "metadata": {
  "kernelspec": {
   "display_name": "Python 3 (ipykernel)",
   "language": "python",
   "name": "python3"
  },
  "language_info": {
   "codemirror_mode": {
    "name": "ipython",
    "version": 3
   },
   "file_extension": ".py",
   "mimetype": "text/x-python",
   "name": "python",
   "nbconvert_exporter": "python",
   "pygments_lexer": "ipython3",
   "version": "3.8.0"
  }
 },
 "nbformat": 4,
 "nbformat_minor": 5
}
