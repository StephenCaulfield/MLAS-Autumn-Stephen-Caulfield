{
 "cells": [
  {
   "cell_type": "markdown",
   "id": "e9adc11e",
   "metadata": {},
   "source": [
    "<h1><b>MACHINE LEARNING AND STATISTICS: T-TEST</b></h1>"
   ]
  },
  {
   "cell_type": "markdown",
   "id": "ea81e026",
   "metadata": {},
   "source": [
    "<h2>GOALS OF THIS PROJECT</h2>\n",
    "    <ol>\n",
    "    <li>Show how scipy.stats can be used to perform a paired\n",
    "samples t-test.</li>\n",
    "    <li>Find an appropriate data set online or elsewhere on which to\n",
    "perform a paired samples t-test.\n",
    "</li>\n",
    "    <li>Demonstrate how to perform a t-test on the data set.\n",
    "</li>\n",
    "</ol>"
   ]
  },
  {
   "cell_type": "markdown",
   "id": "c2d6488d",
   "metadata": {},
   "source": [
    "<h2 align = \"center\">1. PERFORMING PAIRED SAMPLES T-TEST WITH SCIPY</h2>"
   ]
  },
  {
   "cell_type": "markdown",
   "id": "84545279",
   "metadata": {},
   "source": [
    "<h3>WHAT IS A T-TEST</h3>\n",
    "<p>T-test is a statistical test comparing the means of two different samples. The specific type of T-test we are performing is a paired sample T-test, in which the samples have values that correspond with eachother(E.g. A class of students performance on exams before studying and after studying)</p>"
   ]
  },
  {
   "cell_type": "markdown",
   "id": "6d874645",
   "metadata": {},
   "source": [
    "t=m−μs/n−−√"
   ]
  },
  {
   "cell_type": "code",
   "execution_count": null,
   "id": "5b33c2be",
   "metadata": {},
   "outputs": [],
   "source": []
  },
  {
   "cell_type": "markdown",
   "id": "8bbf9cad",
   "metadata": {},
   "source": [
    "We first need to import the necessary packages."
   ]
  },
  {
   "cell_type": "code",
   "execution_count": 5,
   "id": "787ffd6f",
   "metadata": {},
   "outputs": [
    {
     "data": {
      "text/plain": [
       "TtestResult(statistic=1.2281573132128016, pvalue=0.2199668851437582, df=499)"
      ]
     },
     "execution_count": 5,
     "metadata": {},
     "output_type": "execute_result"
    }
   ],
   "source": [
    "import numpy as np\n",
    "\n",
    "import scipy.stats as ss\n",
    "\n",
    "rng = np.random.default_rng()\n",
    "rvs1 = ss.norm.rvs(loc=5, scale=10, size=500, random_state=rng)\n",
    "\n",
    "rvs2 = (ss.norm.rvs(loc=5, scale=10, size=500, random_state=rng)\n",
    "\n",
    "        + stats.norm.rvs(scale=0.2, size=500, random_state=rng))\n",
    "\n",
    "ss.ttest_rel(rvs1, rvs2)"
   ]
  },
  {
   "cell_type": "code",
   "execution_count": 4,
   "id": "90854432",
   "metadata": {},
   "outputs": [
    {
     "data": {
      "text/plain": [
       "TtestResult(statistic=-6.209646452204897, pvalue=1.1190928339723317e-09, df=499)"
      ]
     },
     "execution_count": 4,
     "metadata": {},
     "output_type": "execute_result"
    }
   ],
   "source": [
    " \n",
    "rvs3 = (ss.norm.rvs(loc=8, scale=10, size=500, random_state=rng) + ss.norm.rvs(scale=0.2, size=500, random_state=rng))\n",
    "\n",
    "stats.ttest_rel(rvs1, rvs3)"
   ]
  },
  {
   "cell_type": "code",
   "execution_count": null,
   "id": "d448eb71",
   "metadata": {},
   "outputs": [],
   "source": []
  },
  {
   "cell_type": "code",
   "execution_count": null,
   "id": "93652bac",
   "metadata": {},
   "outputs": [],
   "source": []
  },
  {
   "cell_type": "code",
   "execution_count": null,
   "id": "0e82bebf",
   "metadata": {},
   "outputs": [],
   "source": []
  },
  {
   "cell_type": "code",
   "execution_count": null,
   "id": "0f8a5135",
   "metadata": {},
   "outputs": [],
   "source": []
  },
  {
   "cell_type": "markdown",
   "id": "753b7a3e",
   "metadata": {},
   "source": [
    "<h2 align = \"center\">2. EXPLAINING THE DATA SET USED</h2>"
   ]
  },
  {
   "cell_type": "markdown",
   "id": "65924c32",
   "metadata": {},
   "source": []
  },
  {
   "cell_type": "markdown",
   "id": "16a0e756",
   "metadata": {},
   "source": []
  },
  {
   "cell_type": "markdown",
   "id": "8881e273",
   "metadata": {},
   "source": []
  },
  {
   "cell_type": "markdown",
   "id": "9024a1b3",
   "metadata": {},
   "source": []
  },
  {
   "cell_type": "markdown",
   "id": "93f45165",
   "metadata": {},
   "source": [
    "<h2 align = \"center\">3. PERFORMING A T-TEST ON THE DATA SET</h2>"
   ]
  },
  {
   "cell_type": "markdown",
   "id": "bc6d7941",
   "metadata": {},
   "source": []
  },
  {
   "cell_type": "markdown",
   "id": "2f4269e4",
   "metadata": {},
   "source": []
  },
  {
   "cell_type": "markdown",
   "id": "15f830ed",
   "metadata": {},
   "source": []
  },
  {
   "cell_type": "markdown",
   "id": "000040c7",
   "metadata": {},
   "source": []
  }
 ],
 "metadata": {
  "kernelspec": {
   "display_name": "Python 3 (ipykernel)",
   "language": "python",
   "name": "python3"
  },
  "language_info": {
   "codemirror_mode": {
    "name": "ipython",
    "version": 3
   },
   "file_extension": ".py",
   "mimetype": "text/x-python",
   "name": "python",
   "nbconvert_exporter": "python",
   "pygments_lexer": "ipython3",
   "version": "3.8.0"
  }
 },
 "nbformat": 4,
 "nbformat_minor": 5
}
