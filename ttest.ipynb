{
 "cells": [
  {
   "cell_type": "markdown",
   "id": "e9adc11e",
   "metadata": {},
   "source": [
    "<h1><b>MACHINE LEARNING AND STATISTICS: T-TEST</b></h1>"
   ]
  },
  {
   "cell_type": "markdown",
   "id": "ea81e026",
   "metadata": {},
   "source": [
    "<h2>GOALS OF THIS PROJECT</h2>\n",
    "    <ol>\n",
    "    <li>Show how scipy.stats can be used to perform a paired\n",
    "samples t-test.</li>\n",
    "    <li>Find an appropriate data set online or elsewhere on which to\n",
    "perform a paired samples t-test.\n",
    "</li>\n",
    "    <li>Demonstrate how to perform a t-test on the data set.\n",
    "</li>\n",
    "</ol>"
   ]
  },
  {
   "cell_type": "markdown",
   "id": "c2d6488d",
   "metadata": {},
   "source": [
    "<h2 align = \"center\">1. PERFORMING PAIRED SAMPLES T-TEST WITH SCIPY</h2>"
   ]
  },
  {
   "cell_type": "markdown",
   "id": "8bbf9cad",
   "metadata": {},
   "source": []
  },
  {
   "cell_type": "markdown",
   "id": "978e16e4",
   "metadata": {},
   "source": []
  },
  {
   "cell_type": "markdown",
   "id": "d85bb15a",
   "metadata": {},
   "source": []
  },
  {
   "cell_type": "markdown",
   "id": "c300b843",
   "metadata": {},
   "source": []
  },
  {
   "cell_type": "markdown",
   "id": "753b7a3e",
   "metadata": {},
   "source": [
    "<h2 align = \"center\">2. EXPLAINING THE DATA SET USED</h2>"
   ]
  },
  {
   "cell_type": "markdown",
   "id": "65924c32",
   "metadata": {},
   "source": []
  },
  {
   "cell_type": "markdown",
   "id": "16a0e756",
   "metadata": {},
   "source": []
  },
  {
   "cell_type": "markdown",
   "id": "8881e273",
   "metadata": {},
   "source": []
  },
  {
   "cell_type": "markdown",
   "id": "9024a1b3",
   "metadata": {},
   "source": []
  },
  {
   "cell_type": "markdown",
   "id": "93f45165",
   "metadata": {},
   "source": [
    "<h2 align = \"center\">3. PERFORMING A T-TEST ON THE DATA SET</h2>"
   ]
  },
  {
   "cell_type": "markdown",
   "id": "bc6d7941",
   "metadata": {},
   "source": []
  },
  {
   "cell_type": "markdown",
   "id": "2f4269e4",
   "metadata": {},
   "source": []
  },
  {
   "cell_type": "markdown",
   "id": "15f830ed",
   "metadata": {},
   "source": []
  },
  {
   "cell_type": "markdown",
   "id": "000040c7",
   "metadata": {},
   "source": []
  }
 ],
 "metadata": {
  "kernelspec": {
   "display_name": "Python 3 (ipykernel)",
   "language": "python",
   "name": "python3"
  },
  "language_info": {
   "codemirror_mode": {
    "name": "ipython",
    "version": 3
   },
   "file_extension": ".py",
   "mimetype": "text/x-python",
   "name": "python",
   "nbconvert_exporter": "python",
   "pygments_lexer": "ipython3",
   "version": "3.8.0"
  }
 },
 "nbformat": 4,
 "nbformat_minor": 5
}
